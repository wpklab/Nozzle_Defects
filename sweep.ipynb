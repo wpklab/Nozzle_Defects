{
 "cells": [
  {
   "cell_type": "code",
   "execution_count": null,
   "metadata": {},
   "outputs": [],
   "source": [
    "import wandb\n",
    "\n",
    "sweep_configuration = {\n",
    "    'method': 'random',\n",
    "    'name': 'nozzle_train_real_test_real',\n",
    "    'metric': {\n",
    "        'goal': 'maximize', \n",
    "        'name': 'val acc'\n",
    "\t\t},\n",
    "    'parameters': {\n",
    "        'model_name': {'values': ['convnext_small', 'efficientnetv2_m', 'vit_b_16']},\n",
    "        'lr': {'distribution': 'log_uniform_values', 'max': 0.01, 'min': 0.000001},\n",
    "        'classifier_layer_config': {'values': [0, 1, 2, 3, 4, 5]},\n",
    "        'gaussian_noise_train': {'values': [False, True]},\n",
    "        'dataset_name': {'values': ['train_real_test_real_1k_200_0', 'train_real_test_real_1k_200_1', 'train_real_test_real_1k_200_2',\n",
    "                                    'train_real_test_real_1k_200_3', 'train_real_test_real_1k_200_4']},\n",
    "    },\n",
    "    'early_terminate': {\n",
    "        'type': 'hyperband',\n",
    "        'min_iter': 2,\n",
    "        'eta': 2,\n",
    "    }    \n",
    "}\n",
    "\n",
    "sweep_id = wandb.sweep(sweep=sweep_configuration, project=\"nozzle_testing\")"
   ]
  },
  {
   "cell_type": "code",
   "execution_count": null,
   "metadata": {},
   "outputs": [],
   "source": [
    "import wandb\n",
    "\n",
    "sweep_configuration = {\n",
    "    'method': 'random',\n",
    "    'name': 'nozzle_train_synthetic_test_synthetic',\n",
    "    'metric': {\n",
    "        'goal': 'maximize', \n",
    "        'name': 'val acc'\n",
    "\t\t},\n",
    "    'parameters': {\n",
    "        'model_name': {'values': ['convnext_small', 'efficientnetv2_m', 'vit_b_16']},\n",
    "        'lr': {'distribution': 'log_uniform_values', 'max': 0.01, 'min': 0.000001},\n",
    "        'classifier_layer_config': {'values': [0, 1, 2, 3, 4, 5]},\n",
    "        'gaussian_noise_train': {'values': [False, True]},\n",
    "        'dataset_name': {'values': ['train_synthetic_test_synthetic_1k_200_0', 'train_synthetic_test_synthetic_1k_200_1', 'train_synthetic_test_synthetic_1k_200_2',\n",
    "                                    'train_synthetic_test_synthetic_1k_200_3', 'train_synthetic_test_synthetic_1k_200_4']},\n",
    "    },\n",
    "    'early_terminate': {\n",
    "        'type': 'hyperband',\n",
    "        'min_iter': 2,\n",
    "        'eta': 2,\n",
    "    }    \n",
    "}\n",
    "\n",
    "sweep_id = wandb.sweep(sweep=sweep_configuration, project=\"nozzle_testing\")"
   ]
  },
  {
   "cell_type": "code",
   "execution_count": null,
   "metadata": {},
   "outputs": [],
   "source": [
    "import wandb\n",
    "\n",
    "sweep_configuration = {\n",
    "    'method': 'random',\n",
    "    'name': 'nozzle_train_synthetic_test_real_10k_1k',\n",
    "    'metric': {\n",
    "        'goal': 'maximize', \n",
    "        'name': 'val acc'\n",
    "\t\t},\n",
    "    'parameters': {\n",
    "        'model_name': {'values': ['convnext_small', 'efficientnetv2_m', 'vit_b_16']},\n",
    "        'lr': {'distribution': 'log_uniform_values', 'max': 0.001, 'min': 0.000001},\n",
    "        'classifier_layer_config': {'values': [0, 1, 2, 3, 4, 5]},\n",
    "        'dataset_name': {'values': ['train_synthetic_test_real_10k_1k_0', 'train_synthetic_test_real_10k_1k_1', 'train_synthetic_test_real_10k_1k_2',\n",
    "                                    'train_synthetic_test_real_10k_1k_3', 'train_synthetic_test_real_10k_1k_4']},\n",
    "    },\n",
    "    'early_terminate': {\n",
    "        'type': 'hyperband',\n",
    "        'min_iter': 2,\n",
    "        'eta': 2,\n",
    "    }    \n",
    "}\n",
    "\n",
    "sweep_id = wandb.sweep(sweep=sweep_configuration, project=\"nozzle_testing\")"
   ]
  },
  {
   "cell_type": "code",
   "execution_count": null,
   "metadata": {},
   "outputs": [],
   "source": [
    "import copy # someone on stack overflow says copy is built into python, and thus requires no installation.\n",
    "import os\n",
    "import shutil # fine\n",
    "import time # fine\n",
    "from PIL import Image # seems fine\n",
    "import wandb\n",
    "\n",
    "\n",
    "import torch\n",
    "import torch.nn as nn\n",
    "import torchvision\n",
    "from torchvision import models\n",
    "from torchvision import transforms\n",
    "import numpy as np"
   ]
  },
  {
   "cell_type": "code",
   "execution_count": null,
   "metadata": {},
   "outputs": [],
   "source": [
    "model_ft = models.vit_b_16(weights='DEFAULT')\n",
    "model_ft"
   ]
  },
  {
   "cell_type": "code",
   "execution_count": null,
   "metadata": {},
   "outputs": [],
   "source": [
    "sequential_layers = nn.Sequential(\n",
    "            nn.LayerNorm((1024, 1, 1,), eps=1e-06, elementwise_affine=True),\n",
    "            nn.Flatten(start_dim=1, end_dim=-1)\n",
    "        )\n",
    "classifier_layers=nn.Sequential(nn.Linear(1024, 2048, bias=True),\n",
    "                nn.BatchNorm1d(2048),\n",
    "                nn.ReLU(),\n",
    "                nn.Dropout(0.1),\n",
    "                nn.Linear(2048, 2048),\n",
    "                nn.BatchNorm1d(2048),\n",
    "                nn.ReLU(),\n",
    "                nn.Linear(2048, 5),\n",
    "                nn.LogSoftmax(dim=1))\n",
    "\n",
    "sequential_layers.append(classifier_layers)"
   ]
  },
  {
   "cell_type": "code",
   "execution_count": null,
   "metadata": {},
   "outputs": [],
   "source": [
    "model_ft.head"
   ]
  },
  {
   "cell_type": "code",
   "execution_count": null,
   "metadata": {},
   "outputs": [],
   "source": [
    "model_ft.head.out_features = 2"
   ]
  },
  {
   "cell_type": "code",
   "execution_count": null,
   "metadata": {},
   "outputs": [],
   "source": [
    "model_ft.modules"
   ]
  },
  {
   "cell_type": "code",
   "execution_count": null,
   "metadata": {},
   "outputs": [],
   "source": [
    "model_ft.classifier = sequential_layers\n",
    "model_ft.classifier"
   ]
  },
  {
   "cell_type": "code",
   "execution_count": null,
   "metadata": {},
   "outputs": [],
   "source": [
    "sequential_layers = nn.Sequential(\n",
    "    nn.Dropout(p=.3, inplace=True),\n",
    "    nn.Linear(1280, 2))"
   ]
  },
  {
   "cell_type": "code",
   "execution_count": null,
   "metadata": {},
   "outputs": [],
   "source": [
    "model_ft.classifier = sequential_layers"
   ]
  },
  {
   "cell_type": "code",
   "execution_count": null,
   "metadata": {},
   "outputs": [],
   "source": [
    "sequential_layers = nn.Sequential(\n",
    "    nn.LayerNorm2D((1024,), eps=1e-06, elementwise_affine=True),\n",
    "    nn.Flatten(start_dim=1, end_dim=-1),\n",
    "    nn.Linear(1024, 2))\n",
    "\n",
    "model_ft.classifier = sequential_layers"
   ]
  },
  {
   "cell_type": "code",
   "execution_count": null,
   "metadata": {},
   "outputs": [],
   "source": [
    "model_ft.classifier"
   ]
  },
  {
   "cell_type": "code",
   "execution_count": null,
   "metadata": {},
   "outputs": [],
   "source": []
  }
 ],
 "metadata": {
  "kernelspec": {
   "display_name": "base",
   "language": "python",
   "name": "python3"
  },
  "language_info": {
   "codemirror_mode": {
    "name": "ipython",
    "version": 3
   },
   "file_extension": ".py",
   "mimetype": "text/x-python",
   "name": "python",
   "nbconvert_exporter": "python",
   "pygments_lexer": "ipython3",
   "version": "3.9.12"
  },
  "orig_nbformat": 4,
  "vscode": {
   "interpreter": {
    "hash": "6dbfb62aa31b9130e6fdddd52ed11bbd4e4ffa9fcc6749ef69e074ade32d5aa4"
   }
  }
 },
 "nbformat": 4,
 "nbformat_minor": 2
}
