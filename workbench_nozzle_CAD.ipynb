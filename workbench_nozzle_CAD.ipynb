{
 "cells": [
  {
   "cell_type": "code",
   "execution_count": 1,
   "metadata": {},
   "outputs": [
    {
     "name": "stdout",
     "output_type": "stream",
     "text": [
      "Overwriting auto display for cadquery Workplane and Shape\n",
      "\n",
      "Enabling jupyter_cadquery replay\n"
     ]
    }
   ],
   "source": [
    "import cadquery as cq\n",
    "import numpy as np\n",
    "from cadquery import selectors\n",
    "from cadquery import exporters\n",
    "from jupyter_cadquery import set_defaults\n",
    "from jupyter_cadquery.replay import enable_replay\n",
    "from jupyter_cadquery.viewer.client import show, show_object\n",
    "from cqkit import EdgeLengthSelector #separate library that is helpful\n",
    "\n",
    "import random\n",
    "\n",
    "enable_replay(False)\n",
    "\n",
    "set_defaults(axes=False, axes0=False)\n",
    "set_defaults(theme=\"dark\")"
   ]
  },
  {
   "cell_type": "code",
   "execution_count": 4,
   "metadata": {},
   "outputs": [
    {
     "ename": "AttributeError",
     "evalue": "module 'cadquery.occ_impl.importers' has no attribute 'importSTL'",
     "output_type": "error",
     "traceback": [
      "\u001b[1;31m---------------------------------------------------------------------------\u001b[0m",
      "\u001b[1;31mAttributeError\u001b[0m                            Traceback (most recent call last)",
      "\u001b[1;32mc:\\Users\\bimrose2\\Desktop\\UIUC\\UIUC_metrology\\workbench_nozzle_CAD.ipynb Cell 2\u001b[0m in \u001b[0;36m<cell line: 5>\u001b[1;34m()\u001b[0m\n\u001b[0;32m      <a href='vscode-notebook-cell:/c%3A/Users/bimrose2/Desktop/UIUC/UIUC_metrology/workbench_nozzle_CAD.ipynb#W1sZmlsZQ%3D%3D?line=0'>1</a>\u001b[0m LOCAL_PATH \u001b[39m=\u001b[39m \u001b[39m'\u001b[39m\u001b[39mC:/Users/bimrose2/Box/ZJU UIUC - CT Defect Detection/Nozzle CAD/defect_free_nozzle.STEP\u001b[39m\u001b[39m'\u001b[39m\n\u001b[0;32m      <a href='vscode-notebook-cell:/c%3A/Users/bimrose2/Desktop/UIUC/UIUC_metrology/workbench_nozzle_CAD.ipynb#W1sZmlsZQ%3D%3D?line=1'>2</a>\u001b[0m LOCAL_PATH \u001b[39m=\u001b[39m \u001b[39m'\u001b[39m\u001b[39mC:/Users/bimrose2/Box/ZJU UIUC - CT Defect Detection/Nozzle CAD0/Sized Standard Defects/1mm_Dnotch_nozzle.STL\u001b[39m\u001b[39m'\u001b[39m\n\u001b[0;32m      <a href='vscode-notebook-cell:/c%3A/Users/bimrose2/Desktop/UIUC/UIUC_metrology/workbench_nozzle_CAD.ipynb#W1sZmlsZQ%3D%3D?line=3'>4</a>\u001b[0m nozzle \u001b[39m=\u001b[39m (\n\u001b[1;32m----> <a href='vscode-notebook-cell:/c%3A/Users/bimrose2/Desktop/UIUC/UIUC_metrology/workbench_nozzle_CAD.ipynb#W1sZmlsZQ%3D%3D?line=4'>5</a>\u001b[0m     cq\u001b[39m.\u001b[39;49mimporters\u001b[39m.\u001b[39;49mimportSTL(LOCAL_PATH)\n\u001b[0;32m      <a href='vscode-notebook-cell:/c%3A/Users/bimrose2/Desktop/UIUC/UIUC_metrology/workbench_nozzle_CAD.ipynb#W1sZmlsZQ%3D%3D?line=5'>6</a>\u001b[0m )\n\u001b[0;32m      <a href='vscode-notebook-cell:/c%3A/Users/bimrose2/Desktop/UIUC/UIUC_metrology/workbench_nozzle_CAD.ipynb#W1sZmlsZQ%3D%3D?line=7'>8</a>\u001b[0m nozzle\n",
      "\u001b[1;31mAttributeError\u001b[0m: module 'cadquery.occ_impl.importers' has no attribute 'importSTL'"
     ]
    }
   ],
   "source": [
    "LOCAL_PATH = '' #Path to CAD data\n",
    "\n",
    "nozzle = (\n",
    "    cq.importers.importStep(LOCAL_PATH)\n",
    ")\n",
    "\n",
    "nozzle"
   ]
  },
  {
   "cell_type": "code",
   "execution_count": 8,
   "metadata": {},
   "outputs": [],
   "source": [
    "external_channel_gap = 1.75\n",
    "external_channel_start = 15.5\n",
    "internal_channel_end = 32.36\n",
    "\n",
    "def internal_channel_radius(x):\n",
    "    x = abs(x)\n",
    "    if x < 8:\n",
    "        r = 8\n",
    "    elif x < 12:\n",
    "        r = 4 + (12 - x)\n",
    "    elif x < 15.73:\n",
    "        r = 4\n",
    "    elif x < 19.63:\n",
    "        r = 1.75 + ((19.63 - x) * (2.25 / 3.9))\n",
    "    elif x < 27.63:\n",
    "        r = 1.75\n",
    "    elif x < 29.36:\n",
    "        r = 0.75 + ((29.36 - x) * (1 / 1.73))\n",
    "    elif x < 32.36:\n",
    "        r = 0.75\n",
    "\n",
    "    return r\n",
    "\n",
    "def external_channel_radius(x):\n",
    "    x = abs(x)\n",
    "    if x < 18.3:\n",
    "        r = 8\n",
    "    elif x < 23.5:\n",
    "        r = 5 + ((23.5 - x) * (3 / 5.2))\n",
    "    elif x < 28.5:\n",
    "        r = 5\n",
    "    elif x < 33.5:\n",
    "        r = 2.11 + ((33.5 - x) * (2.89 / 5))\n",
    "    elif x <= 35:\n",
    "        r = 2.11\n",
    "\n",
    "    return r"
   ]
  },
  {
   "cell_type": "code",
   "execution_count": 6,
   "metadata": {},
   "outputs": [
    {
     "data": {
      "text/plain": [
       "array([3])"
      ]
     },
     "execution_count": 6,
     "metadata": {},
     "output_type": "execute_result"
    }
   ],
   "source": [
    "np.array(range(3,4))"
   ]
  },
  {
   "cell_type": "code",
   "execution_count": 13,
   "metadata": {},
   "outputs": [
    {
     "data": {
      "application/vnd.jupyter.widget-view+json": {
       "model_id": "12a3d515232043929861ede430dd7ed8",
       "version_major": 2,
       "version_minor": 0
      },
      "text/plain": [
       "CadViewerWidget(anchor=None, cad_width=800, glass=False, height=600, pinning=False, theme='dark', title=None, …"
      ]
     },
     "metadata": {},
     "output_type": "display_data"
    },
    {
     "data": {
      "text/html": [
       "<div></div>"
      ],
      "text/plain": [
       "<IPython.core.display.HTML object>"
      ]
     },
     "metadata": {},
     "output_type": "display_data"
    }
   ],
   "source": [
    "for defect_morphology in ['clog']:#, 'void']:\n",
    "    for defect_type in ['blob']:#['sphere', 'cylinder', 'rect', 'cone', 'spikey', 'blob']:#['blob', 'spikey']:\n",
    "        for id in range(3, 4):\n",
    "                nozzle = (\n",
    "                    cq.importers.importStep(LOCAL_PATH)\n",
    "                )\n",
    "\n",
    "                def generate_sphere(size):\n",
    "                    blob = (cq.Workplane()\n",
    "                        .sphere(random.random()*size/2).translate(((random.random() - 1)*size, (random.random() - 1)*size, (random.random() - 1)*size))\n",
    "                        )\n",
    "                    return blob\n",
    "\n",
    "                def generate_blob(size, blob_num):\n",
    "                    blob = generate_sphere(size)\n",
    "                    for idx in range(blob_num):\n",
    "                        blob = blob.union(generate_sphere(size))\n",
    "                    return blob\n",
    "            \n",
    "\n",
    "                # defect_radius = 1/2\n",
    "                #defect_radius = 2/2\n",
    "                # defect_radius = 2\n",
    "\n",
    "                defect_radius_array = np.array([.5, .5, .5, .5, 1, 1, 1, 1, 2, 2, 2, 2])\n",
    "                defect_spacing = defect_radius_array*2 + .5\n",
    "\n",
    "                defect_order = np.random.permutation(len(defect_radius_array))\n",
    "                defect_start = np.random.uniform(0.09, 1 - 0.09)\n",
    "\n",
    "                defect_x_loc = [defect_spacing[defect_order[0]]/2 + defect_start]\n",
    "\n",
    "                for idx in range(len(defect_radius_array) - 1):\n",
    "                    defect_x_loc = np.append(defect_x_loc, defect_x_loc[idx] + defect_spacing[defect_order[idx]]/2 + defect_spacing[defect_order[idx + 1]]/2)\n",
    "\n",
    "                \n",
    "                if defect_type == 'blob':\n",
    "                        blob_1 = generate_blob(.5, 25)\n",
    "                        blob_2 = generate_blob(1, 25)\n",
    "                        blob_4 = generate_blob(2, 25)\n",
    "\n",
    "                    \n",
    "\n",
    "                for idx in range(len(defect_radius_array)):\n",
    "                    \n",
    "                    x = defect_x_loc[idx]\n",
    "                    defect_radius = defect_radius_array[defect_order[idx]]\n",
    "\n",
    "                    if defect_type == 'blob':\n",
    "                        if defect_radius == .5:\n",
    "                            blob = blob_1\n",
    "                        elif defect_radius == 1:\n",
    "                            blob = blob_2\n",
    "                        elif defect_radius == 2:\n",
    "                            blob = blob_4\n",
    "\n",
    "                    if defect_type == 'spikey':\n",
    "                        spikey = (\n",
    "                            cq.importers.importStep('C:/Users/bimrose2/Box/ZJU UIUC - CT Defect Detection/Nozzle CAD/spikey_'  + str(int(defect_radius*2)) + 'mm.STEP')\n",
    "                        )\n",
    "\n",
    "                    external = False\n",
    "\n",
    "                    if x < external_channel_start:\n",
    "                        r = internal_channel_radius(x)\n",
    "\n",
    "                    elif x > internal_channel_end:\n",
    "                        r = external_channel_radius(x)\n",
    "                    else:\n",
    "                        external = random.choice([True, False])\n",
    "                        x_choices = [internal_channel_radius(x), external_channel_radius(x), ]\n",
    "                        r = x_choices[int(external)]\n",
    "\n",
    "                    defect_theta = random.random() * 2 * np.pi\n",
    "\n",
    "                    if external & (x < 33.5):\n",
    "                        r = random.choice([r - (1 - random.random()) * (defect_radius), (r - 1.75) - (1 - random.random()) * (defect_radius)])\n",
    "                    else:\n",
    "                        r = r + (1 - random.random()) * (defect_radius * 2/3)\n",
    "\n",
    "                    defect_y = r * np.cos(defect_theta)\n",
    "                    defect_z = r * np.sin(defect_theta)\n",
    "\n",
    "                    # Spherical Defect\n",
    "                    if defect_type == 'sphere':\n",
    "                        if defect_morphology == 'void':\n",
    "                            nozzle = nozzle.cut(cq.Workplane(\"YZ\").sphere(defect_radius).translate((-x, defect_y, defect_z)))\n",
    "                        else:\n",
    "                            nozzle = nozzle.union(cq.Workplane(\"YZ\").sphere(defect_radius).translate((-x, defect_y, defect_z)))\n",
    "                    # Cylinderical Defect\n",
    "                    if defect_type == 'cylinder':\n",
    "                        if defect_morphology == 'void':\n",
    "                            nozzle = nozzle.cut(cq.Workplane(\"YZ\").cylinder(defect_radius*1.5, defect_radius*.5).translate((-x, defect_y, defect_z)).rotateAboutCenter((random.random(), random.random(), random.random()), random.random() * 360))\n",
    "                        else:\n",
    "                            nozzle = nozzle.union(cq.Workplane(\"YZ\").cylinder(defect_radius*1.5, defect_radius*.5).translate((-x, defect_y, defect_z)).rotateAboutCenter((random.random(), random.random(), random.random()), random.random() * 360))\n",
    "                    # Rectangular Defect\n",
    "                    if defect_type == 'rect':\n",
    "                        if defect_morphology == 'void':\n",
    "                            nozzle = nozzle.cut(cq.Workplane(\"YZ\").rect(defect_radius*1.5, defect_radius*.5).extrude(random.random()*1.5*defect_radius).translate((-x, defect_y, defect_z)).rotateAboutCenter((random.random(), random.random(), random.random()), random.random() * 360))\n",
    "                        else:\n",
    "                            nozzle = nozzle.union(cq.Workplane(\"YZ\").rect(defect_radius*1.5, defect_radius*.5).extrude(random.random()*1.5*defect_radius).translate((-x, defect_y, defect_z)).rotateAboutCenter((random.random(), random.random(), random.random()), random.random() * 360))\n",
    "                    # Cone Defect\n",
    "                    if defect_type == 'cone':\n",
    "                        if defect_morphology == 'void':\n",
    "                            nozzle = nozzle.cut(cq.Workplane(\"YZ\").circle(defect_radius/2).workplane(offset=defect_radius*1.5).circle(0.01).loft(combine=True).translate((-x, defect_y, defect_z)).rotateAboutCenter((random.random(), random.random(), random.random()), random.random() * 360))\n",
    "                        else:\n",
    "                            nozzle = nozzle.union(cq.Workplane(\"YZ\").circle(defect_radius/2).workplane(offset=defect_radius*1.5).circle(0.01).loft(combine=True).translate((-x, defect_y, defect_z)).rotateAboutCenter((random.random(), random.random(), random.random()), random.random() * 360))\n",
    "                    # spikey Defect\n",
    "                    if defect_type == 'spikey':\n",
    "                        if defect_morphology == 'void':\n",
    "                            nozzle = nozzle.cut(spikey.translate((-x, defect_y, defect_z)).rotateAboutCenter((random.random(), random.random(), random.random()), random.random() * 360))\n",
    "                        else:\n",
    "                            nozzle = nozzle.union(spikey.translate((-x, defect_y, defect_z)).rotateAboutCenter((random.random(), random.random(), random.random()), random.random() * 360))\n",
    "                    # blob Defect:\n",
    "                    if defect_type == 'blob':\n",
    "                        if defect_morphology == 'void':\n",
    "                            nozzle = nozzle.cut(blob.translate((-x, defect_y, defect_z)).rotateAboutCenter((random.random(), random.random(), random.random()), random.random() * 360))\n",
    "                        else:\n",
    "                            nozzle = nozzle.union(blob.translate((-x, defect_y, defect_z)).rotateAboutCenter((random.random(), random.random(), random.random()), random.random() * 360))\n",
    "\n",
    "                #exporters.export(nozzle, 'C:/Users/bimrose2/Box/ZJU UIUC - CT Defect Detection/Nozzle CAD/Synthetic_Defects/nozzle_r1_clog_' + str(id) + '.stl')\n",
    "                nozzle.val().exportStl('cad/' + str(defect_type) + '_' + str(defect_morphology) + '_' + str(id) + '.stl',tolerance=0.001,angularTolerance=.2, ascii=False)\n",
    "\n",
    "nozzle"
   ]
  },
  {
   "cell_type": "code",
   "execution_count": 111,
   "metadata": {},
   "outputs": [
    {
     "data": {
      "application/vnd.jupyter.widget-view+json": {
       "model_id": "9959eee057764530bf567583efe93160",
       "version_major": 2,
       "version_minor": 0
      },
      "text/plain": [
       "CadViewerWidget(anchor=None, cad_width=800, glass=False, height=600, pinning=False, theme='dark', title=None, …"
      ]
     },
     "metadata": {},
     "output_type": "display_data"
    },
    {
     "data": {
      "text/html": [
       "<div></div>"
      ],
      "text/plain": [
       "<IPython.core.display.HTML object>"
      ]
     },
     "metadata": {},
     "output_type": "display_data"
    }
   ],
   "source": [
    "defect_morphology = ['clog', 'void']\n",
    "defect_type = ['sphere', 'cylinder', 'rect', 'cone', 'spikey', 'blob']\n",
    "\n",
    "\n",
    "defect_morphology = 'clog'\n",
    "defect_type = 'blob'\n",
    "\n",
    "nozzle = (\n",
    "    cq.importers.importStep(LOCAL_PATH)\n",
    ")\n",
    "\n",
    "def generate_sphere(size):\n",
    "    blob = (cq.Workplane()\n",
    "        .sphere(random.random()*size/2).translate(((random.random() - 1)*size, (random.random() - 1)*size, (random.random() - 1)*size))\n",
    "        )\n",
    "    return blob\n",
    "\n",
    "def generate_blob(size, blob_num):\n",
    "    blob = generate_sphere(size)\n",
    "    for idx in range(blob_num):\n",
    "        blob = blob.union(generate_sphere(size))\n",
    "    return blob\n",
    "\n",
    "\n",
    "defect_radius = 1/2\n",
    "#defect_radius = 2/2\n",
    "# defect_radius = 2\n",
    "\n",
    "defect_radius_array = np.array([.5, .5, .5, .5, 1, 1, 1, 1, 2, 2, 2, 2])\n",
    "defect_spacing = defect_radius_array*2 + .5\n",
    "\n",
    "defect_order = np.random.permutation(len(defect_radius_array))\n",
    "defect_start = np.random.uniform(0.09, 1 - 0.09)\n",
    "\n",
    "defect_x_loc = [defect_spacing[defect_order[0]]/2 + defect_start]\n",
    "\n",
    "for idx in range(len(defect_radius_array) - 1):\n",
    "    defect_x_loc = np.append(defect_x_loc, defect_x_loc[idx] + defect_spacing[defect_order[idx]]/2 + defect_spacing[defect_order[idx + 1]]/2)\n",
    "\n",
    "\n",
    "if defect_type == 'blob':\n",
    "        blob_1 = generate_blob(.5, 25)\n",
    "        blob_2 = generate_blob(1, 25)\n",
    "        blob_4 = generate_blob(2, 25)\n",
    "\n",
    "    \n",
    "    \n",
    "x = np.random.uniform(8 + 2.09, 35-2.09)\n",
    "#defect_radius = defect_radius_array[defect_order[idx]]\n",
    "\n",
    "if defect_type == 'blob':\n",
    "    if defect_radius == .5:\n",
    "        blob = blob_1\n",
    "    elif defect_radius == 1:\n",
    "        blob = blob_2\n",
    "    elif defect_radius == 2:\n",
    "        blob = blob_4\n",
    "\n",
    "if defect_type == 'spikey':\n",
    "    spikey = (\n",
    "        cq.importers.importStep('cad/spikey_'  + str(int(defect_radius*2)) + 'mm.STEP')\n",
    "    )\n",
    "\n",
    "external = False\n",
    "\n",
    "if x < external_channel_start:\n",
    "    r = internal_channel_radius(x)\n",
    "\n",
    "elif x > internal_channel_end:\n",
    "    r = external_channel_radius(x)\n",
    "else:\n",
    "    external = random.choice([True, False])\n",
    "    x_choices = [internal_channel_radius(x), external_channel_radius(x), ]\n",
    "    r = x_choices[int(external)]\n",
    "\n",
    "defect_theta = random.random() * 2 * np.pi\n",
    "\n",
    "if external & (x < 33.5):\n",
    "    r = random.choice([r - (1 - random.random()) * (defect_radius), (r - 1.75) - (1 - random.random()) * (defect_radius)])\n",
    "else:\n",
    "    r = r + (1 - random.random()) * (defect_radius * 2/3)\n",
    "\n",
    "defect_y = r * np.cos(defect_theta)\n",
    "defect_z = r * np.sin(defect_theta)\n",
    "\n",
    "# Spherical Defect\n",
    "if defect_type == 'sphere':\n",
    "    if defect_morphology == 'void':\n",
    "        nozzle = nozzle.cut(cq.Workplane(\"YZ\").sphere(defect_radius).translate((-x, defect_y, defect_z)))\n",
    "    else:\n",
    "        nozzle = nozzle.union(cq.Workplane(\"YZ\").sphere(defect_radius).translate((-x, defect_y, defect_z)))\n",
    "# Cylinderical Defect\n",
    "if defect_type == 'cylinder':\n",
    "    if defect_morphology == 'void':\n",
    "        nozzle = nozzle.cut(cq.Workplane(\"YZ\").cylinder(defect_radius*1.5, defect_radius*.5).translate((-x, defect_y, defect_z)).rotateAboutCenter((random.random(), random.random(), random.random()), random.random() * 360))\n",
    "    else:\n",
    "        nozzle = nozzle.union(cq.Workplane(\"YZ\").cylinder(defect_radius*1.5, defect_radius*.5).translate((-x, defect_y, defect_z)).rotateAboutCenter((random.random(), random.random(), random.random()), random.random() * 360))\n",
    "# Rectangular Defect\n",
    "if defect_type == 'rect':\n",
    "    if defect_morphology == 'void':\n",
    "        nozzle = nozzle.cut(cq.Workplane(\"YZ\").rect(defect_radius*1.5, defect_radius*.5).extrude(random.random()*1.5*defect_radius).translate((-x, defect_y, defect_z)).rotateAboutCenter((random.random(), random.random(), random.random()), random.random() * 360))\n",
    "    else:\n",
    "        nozzle = nozzle.union(cq.Workplane(\"YZ\").rect(defect_radius*1.5, defect_radius*.5).extrude(random.random()*1.5*defect_radius).translate((-x, defect_y, defect_z)).rotateAboutCenter((random.random(), random.random(), random.random()), random.random() * 360))\n",
    "# Cone Defect\n",
    "if defect_type == 'cone':\n",
    "    if defect_morphology == 'void':\n",
    "        nozzle = nozzle.cut(cq.Workplane(\"YZ\").circle(defect_radius/2).workplane(offset=defect_radius*1.5).circle(0.01).loft(combine=True).translate((-x, defect_y, defect_z)).rotateAboutCenter((random.random(), random.random(), random.random()), random.random() * 360))\n",
    "    else:\n",
    "        nozzle = nozzle.union(cq.Workplane(\"YZ\").circle(defect_radius/2).workplane(offset=defect_radius*1.5).circle(0.01).loft(combine=True).translate((-x, defect_y, defect_z)).rotateAboutCenter((random.random(), random.random(), random.random()), random.random() * 360))\n",
    "# spikey Defect\n",
    "if defect_type == 'spikey':\n",
    "    if defect_morphology == 'void':\n",
    "        nozzle = nozzle.cut(spikey.translate((-x, defect_y, defect_z)).rotateAboutCenter((random.random(), random.random(), random.random()), random.random() * 360))\n",
    "    else:\n",
    "        nozzle = nozzle.union(spikey.translate((-x, defect_y, defect_z)).rotateAboutCenter((random.random(), random.random(), random.random()), random.random() * 360))\n",
    "# blob Defect:\n",
    "if defect_type == 'blob':\n",
    "    if defect_morphology == 'void':\n",
    "        nozzle = nozzle.cut(blob.translate((-x, defect_y, defect_z)).rotateAboutCenter((random.random(), random.random(), random.random()), random.random() * 360))\n",
    "    else:\n",
    "        nozzle = nozzle.union(blob.translate((-x, defect_y, defect_z)).rotateAboutCenter((random.random(), random.random(), random.random()), random.random() * 360))\n",
    "\n",
    "#exporters.export(nozzle, 'C:/Users/bimrose2/Box/ZJU UIUC - CT Defect Detection/Nozzle CAD/Synthetic_Defects/nozzle_r1_clog_' + str(id) + '.stl')\n",
    "#nozzle.val().exportStl('C:/Users/bimrose2/Box/ZJU UIUC - CT Defect Detection/Nozzle CAD/Synthetic_Defects/nozzle_' + str(defect_type) + '_' + str(defect_morphology) + '_' + str(id) + '.stl',tolerance=0.001,angularTolerance=.2, ascii=False)\n",
    "\n",
    "nozzle"
   ]
  },
  {
   "cell_type": "code",
   "execution_count": 112,
   "metadata": {},
   "outputs": [
    {
     "data": {
      "text/plain": [
       "True"
      ]
     },
     "execution_count": 112,
     "metadata": {},
     "output_type": "execute_result"
    }
   ],
   "source": [
    "nozzle.val().exportStl('cad/nozzle_' + str(defect_type) + '_' + str(defect_morphology) + '_1mm.stl',tolerance=0.001,angularTolerance=.2, ascii=False)"
   ]
  },
  {
   "cell_type": "code",
   "execution_count": 27,
   "metadata": {},
   "outputs": [
    {
     "name": "stdout",
     "output_type": "stream",
     "text": [
      "100% ⋮————————————————————————————————————————————————————————————⋮ (2/2)  0.99s\n"
     ]
    },
    {
     "data": {
      "application/vnd.jupyter.widget-view+json": {
       "model_id": "264c508a2ccf4121ab36ce3af7414aa1",
       "version_major": 2,
       "version_minor": 0
      },
      "text/plain": [
       "CadViewerWidget(anchor=None, cad_width=800, glass=False, height=600, pinning=False, theme='dark', title=None, …"
      ]
     },
     "metadata": {},
     "output_type": "display_data"
    },
    {
     "data": {
      "text/html": [
       "<div></div>"
      ],
      "text/plain": [
       "<IPython.core.display.HTML object>"
      ]
     },
     "metadata": {},
     "output_type": "display_data"
    }
   ],
   "source": [
    "def generate_sphere(size):\n",
    "    blob = (cq.Workplane()\n",
    "        .sphere(random.random()*size/3).translate(((random.random() - 1)*size, (random.random() - 1)*size, (random.random() - 1)*size))\n",
    "        )\n",
    "    return blob\n",
    "\n",
    "def generate_blob(size, blob_num):\n",
    "    blob = generate_sphere(size)\n",
    "    for idx in range(blob_num):\n",
    "        blob = blob.union(generate_sphere(size))\n",
    "    return blob\n",
    "\n",
    "blob = generate_blob(10, 100)\n",
    "blob"
   ]
  },
  {
   "cell_type": "code",
   "execution_count": 57,
   "metadata": {},
   "outputs": [],
   "source": [
    "spikey = (\n",
    "        cq.importers.importStep('cad/Great_stellated_dodecahedron.STEP') #path to dodecahedron\n",
    "    )"
   ]
  },
  {
   "cell_type": "code",
   "execution_count": 86,
   "metadata": {},
   "outputs": [
    {
     "ename": "AttributeError",
     "evalue": "'Workplane' object has no attribute 'points'",
     "output_type": "error",
     "traceback": [
      "\u001b[1;31m---------------------------------------------------------------------------\u001b[0m",
      "\u001b[1;31mAttributeError\u001b[0m                            Traceback (most recent call last)",
      "\u001b[1;32mc:\\Users\\bimrose2\\Desktop\\UIUC\\UIUC_metrology\\workbench_nozzle_CAD.ipynb Cell 6\u001b[0m in \u001b[0;36m<cell line: 13>\u001b[1;34m()\u001b[0m\n\u001b[0;32m     <a href='vscode-notebook-cell:/c%3A/Users/bimrose2/Desktop/UIUC/UIUC_metrology/workbench_nozzle_CAD.ipynb#W5sZmlsZQ%3D%3D?line=9'>10</a>\u001b[0m     s \u001b[39m=\u001b[39m s\u001b[39m.\u001b[39mpushPoints([(x, y, organic_blob(x, y, \u001b[39m0.5\u001b[39m)) \u001b[39mfor\u001b[39;00m x, y, z \u001b[39min\u001b[39;00m b\u001b[39m.\u001b[39mpoints])\n\u001b[0;32m     <a href='vscode-notebook-cell:/c%3A/Users/bimrose2/Desktop/UIUC/UIUC_metrology/workbench_nozzle_CAD.ipynb#W5sZmlsZQ%3D%3D?line=10'>11</a>\u001b[0m     \u001b[39mreturn\u001b[39;00m s\u001b[39m.\u001b[39mextrude(\u001b[39m10\u001b[39m)\n\u001b[1;32m---> <a href='vscode-notebook-cell:/c%3A/Users/bimrose2/Desktop/UIUC/UIUC_metrology/workbench_nozzle_CAD.ipynb#W5sZmlsZQ%3D%3D?line=12'>13</a>\u001b[0m result \u001b[39m=\u001b[39m random_blob()\n\u001b[0;32m     <a href='vscode-notebook-cell:/c%3A/Users/bimrose2/Desktop/UIUC/UIUC_metrology/workbench_nozzle_CAD.ipynb#W5sZmlsZQ%3D%3D?line=13'>14</a>\u001b[0m result\n",
      "\u001b[1;32mc:\\Users\\bimrose2\\Desktop\\UIUC\\UIUC_metrology\\workbench_nozzle_CAD.ipynb Cell 6\u001b[0m in \u001b[0;36mrandom_blob\u001b[1;34m()\u001b[0m\n\u001b[0;32m      <a href='vscode-notebook-cell:/c%3A/Users/bimrose2/Desktop/UIUC/UIUC_metrology/workbench_nozzle_CAD.ipynb#W5sZmlsZQ%3D%3D?line=7'>8</a>\u001b[0m b \u001b[39m=\u001b[39m cadquery\u001b[39m.\u001b[39mWorkplane(\u001b[39m\"\u001b[39m\u001b[39mXY\u001b[39m\u001b[39m\"\u001b[39m)\u001b[39m.\u001b[39mbox(\u001b[39m20\u001b[39m, \u001b[39m20\u001b[39m, \u001b[39m0.1\u001b[39m)\u001b[39m.\u001b[39mvertices()\n\u001b[0;32m      <a href='vscode-notebook-cell:/c%3A/Users/bimrose2/Desktop/UIUC/UIUC_metrology/workbench_nozzle_CAD.ipynb#W5sZmlsZQ%3D%3D?line=8'>9</a>\u001b[0m s \u001b[39m=\u001b[39m cadquery\u001b[39m.\u001b[39mWorkplane(\u001b[39m\"\u001b[39m\u001b[39mXY\u001b[39m\u001b[39m\"\u001b[39m)\n\u001b[1;32m---> <a href='vscode-notebook-cell:/c%3A/Users/bimrose2/Desktop/UIUC/UIUC_metrology/workbench_nozzle_CAD.ipynb#W5sZmlsZQ%3D%3D?line=9'>10</a>\u001b[0m s \u001b[39m=\u001b[39m s\u001b[39m.\u001b[39mpushPoints([(x, y, organic_blob(x, y, \u001b[39m0.5\u001b[39m)) \u001b[39mfor\u001b[39;00m x, y, z \u001b[39min\u001b[39;00m b\u001b[39m.\u001b[39;49mpoints])\n\u001b[0;32m     <a href='vscode-notebook-cell:/c%3A/Users/bimrose2/Desktop/UIUC/UIUC_metrology/workbench_nozzle_CAD.ipynb#W5sZmlsZQ%3D%3D?line=10'>11</a>\u001b[0m \u001b[39mreturn\u001b[39;00m s\u001b[39m.\u001b[39mextrude(\u001b[39m10\u001b[39m)\n",
      "File \u001b[1;32mc:\\Users\\bimrose2\\Anaconda3\\lib\\site-packages\\jupyter_cadquery\\replay.py:250\u001b[0m, in \u001b[0;36m_add_context\u001b[1;34m(self, name)\u001b[0m\n\u001b[0;32m    246\u001b[0m         \u001b[39mreturn\u001b[39;00m result\n\u001b[0;32m    248\u001b[0m     \u001b[39mreturn\u001b[39;00m f\n\u001b[1;32m--> 250\u001b[0m attr \u001b[39m=\u001b[39m \u001b[39mobject\u001b[39;49m\u001b[39m.\u001b[39;49m\u001b[39m__getattribute__\u001b[39;49m(\u001b[39mself\u001b[39;49m, name)\n\u001b[0;32m    251\u001b[0m \u001b[39mif\u001b[39;00m callable(attr):\n\u001b[0;32m    252\u001b[0m     prefix \u001b[39m=\u001b[39m \u001b[39m\"\u001b[39m\u001b[39m    \u001b[39m\u001b[39m\"\u001b[39m \u001b[39m*\u001b[39m (_CTX\u001b[39m.\u001b[39mlength \u001b[39m-\u001b[39m \u001b[39m1\u001b[39m)\n",
      "\u001b[1;31mAttributeError\u001b[0m: 'Workplane' object has no attribute 'points'"
     ]
    }
   ],
   "source": [
    "import cadquery\n",
    "import noise\n",
    "\n",
    "def organic_blob(x, y, z):\n",
    "    return noise.pnoise3(x, y, z, octaves=6, persistence=0.5, lacunarity=2)\n",
    "\n",
    "def random_blob():\n",
    "    b = cadquery.Workplane(\"XY\").box(20, 20, 0.1).vertices()\n",
    "    s = cadquery.Workplane(\"XY\")\n",
    "    s = s.pushPoints([(x, y, organic_blob(x, y, 0.5)) for x, y, z in b.points])\n",
    "    return s.extrude(10)\n",
    "\n",
    "result = random_blob()\n",
    "result"
   ]
  },
  {
   "cell_type": "code",
   "execution_count": 87,
   "metadata": {},
   "outputs": [
    {
     "data": {
      "application/vnd.jupyter.widget-view+json": {
       "model_id": "1163d517ea334fb7bdd8ef12d458c0ef",
       "version_major": 2,
       "version_minor": 0
      },
      "text/plain": [
       "CadViewerWidget(anchor=None, cad_width=800, glass=False, height=600, pinning=False, theme='dark', title=None, …"
      ]
     },
     "metadata": {},
     "output_type": "display_data"
    },
    {
     "data": {
      "text/html": [
       "<div></div>"
      ],
      "text/plain": [
       "<IPython.core.display.HTML object>"
      ]
     },
     "metadata": {},
     "output_type": "display_data"
    }
   ],
   "source": [
    "def random_blob(size):\n",
    "    s = (\n",
    "         cq.Sketch()\n",
    "        .arc((random.uniform(-size, size), random.uniform(-size, size)),size/2 + random.random()*size, 0.,360., tag='base')\n",
    "        .arc((random.uniform(-size, size), random.uniform(-size, size)),size/2 + random.random()*size, 0.,360., tag='base')\n",
    "        .arc((random.uniform(-size, size), random.uniform(-size, size)),size/2 + random.random()*size, 0.,360., tag='base')\n",
    "        .arc((random.uniform(-size, size), random.uniform(-size, size)),size/2 + random.random()*size, 0.,360., tag='base')\n",
    "        .hull(tag='base')\n",
    "        # .polygon(((0, -10*size), (0, 10*size), (10*size, 10*size,), (10*size, -10*size), (0, -10*size)), mode='s', tag='base')\n",
    "        )\n",
    "    \n",
    "    result = (\n",
    "        cq.Workplane()\n",
    "        .workplane(offset=0)\n",
    "        .placeSketch(s)\n",
    "        # .revolve(90)\n",
    "        .extrude(2*size/3)\n",
    "        .faces(\"|Z\").edges().fillet(size/4)\n",
    "    )\n",
    "\n",
    "    return result\n",
    "\n",
    "def generate_random_blob(size):\n",
    "    result = None\n",
    "    while result is None:\n",
    "        try:\n",
    "            # connect\n",
    "            result = random_blob(size)\n",
    "        except:\n",
    "            pass\n",
    "    return result\n",
    "\n",
    "defect_size = 5\n",
    "\n",
    "result = generate_random_blob(defect_size)\n",
    "\n",
    "\n",
    "\n",
    "# result = (\n",
    "#     cq.Workplane()\n",
    "#     .placeSketch(generate_random_blob(defect_size), generate_random_blob(defect_size).moved(cq.Location(cq.Vector(0, 0, defect_size*3))))\n",
    "#     .loft()\n",
    "#     )\n",
    "\n",
    "result"
   ]
  },
  {
   "cell_type": "code",
   "execution_count": 88,
   "metadata": {},
   "outputs": [],
   "source": [
    "def random_blob(size):\n",
    "    s = (\n",
    "         cq.Workplane()\n",
    "        .sphere((random.uniform(-size, size), random.uniform(-size, size)),size/2 + random.random()*size, 0.,360., tag='base')\n",
    "        .hull(tag='base')\n",
    "        # .polygon(((0, -10*size), (0, 10*size), (10*size, 10*size,), (10*size, -10*size), (0, -10*size)), mode='s', tag='base')\n",
    "        )\n",
    "    \n",
    "    result = (\n",
    "        cq.Workplane()\n",
    "        .workplane(offset=0)\n",
    "        .placeSketch(s)\n",
    "        # .revolve(90)\n",
    "        .extrude(2*size/3)\n",
    "        .faces(\"|Z\").edges().fillet(size/4)\n",
    "    )\n",
    "\n",
    "    return result\n",
    "\n",
    "def generate_random_blob(size):\n",
    "    result = None\n",
    "    while result is None:\n",
    "        try:\n",
    "            # connect\n",
    "            result = random_blob(size)\n",
    "        except:\n",
    "            pass\n",
    "    return result\n",
    "\n",
    "defect_size = 5\n",
    "\n",
    "result = generate_random_blob(defect_size)\n",
    "\n",
    "\n",
    "\n",
    "# result = (\n",
    "#     cq.Workplane()\n",
    "#     .placeSketch(generate_random_blob(defect_size), generate_random_blob(defect_size).moved(cq.Location(cq.Vector(0, 0, defect_size*3))))\n",
    "#     .loft()\n",
    "#     )\n",
    "\n",
    "result"
   ]
  },
  {
   "cell_type": "code",
   "execution_count": null,
   "metadata": {},
   "outputs": [],
   "source": [
    "\n",
    "clone_result = cq.Workplane()\n",
    "\n",
    "repeats = 10\n",
    "\n",
    "for idx in range(repeats):\n",
    "    clone_result.add(result.rotate((0, 0, 0), (random.random(), random.random(), random.random()), idx*190/repeats))\n",
    "\n",
    "clone_result"
   ]
  }
 ],
 "metadata": {
  "kernelspec": {
   "display_name": "base",
   "language": "python",
   "name": "python3"
  },
  "language_info": {
   "codemirror_mode": {
    "name": "ipython",
    "version": 3
   },
   "file_extension": ".py",
   "mimetype": "text/x-python",
   "name": "python",
   "nbconvert_exporter": "python",
   "pygments_lexer": "ipython3",
   "version": "3.9.12"
  },
  "orig_nbformat": 4,
  "vscode": {
   "interpreter": {
    "hash": "6dbfb62aa31b9130e6fdddd52ed11bbd4e4ffa9fcc6749ef69e074ade32d5aa4"
   }
  }
 },
 "nbformat": 4,
 "nbformat_minor": 2
}
