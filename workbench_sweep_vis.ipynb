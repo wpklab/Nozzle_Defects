{
 "cells": [
  {
   "cell_type": "code",
   "execution_count": 1,
   "metadata": {},
   "outputs": [],
   "source": [
    "import os\n",
    "import pdb\n",
    "import time\n",
    "import numpy as np\n",
    "import pandas as pd\n",
    "\n",
    "import matplotlib.pyplot as plt\n",
    "import torch\n",
    "import torch.optim as optim\n",
    "import torchvision\n",
    "from torch import nn\n",
    "from torchvision import datasets, transforms\n",
    "import resnet34\n",
    "\n",
    "from time import time\n",
    "import multiprocessing as mp"
   ]
  },
  {
   "cell_type": "code",
   "execution_count": 6,
   "metadata": {},
   "outputs": [],
   "source": [
    "csv_path = 'data/sweep_outputs' #path to data sweep_outputs\n",
    "csv_list = os.listdir(csv_path)\n",
    "\n",
    "#csv_list = [csv_list[0], csv_list[2], csv_list[1]]\n",
    "csv_list = [csv_list[3], csv_list[4], csv_list[5], csv_list[2]]"
   ]
  },
  {
   "cell_type": "code",
   "execution_count": 7,
   "metadata": {},
   "outputs": [
    {
     "data": {
      "text/plain": [
       "['nozzle_train_synthetic_test_real_1k.csv',\n",
       " 'nozzle_train_synthetic_test_real_3k.csv',\n",
       " 'nozzle_train_synthetic_test_real_5k.csv',\n",
       " 'nozzle_train_synthetic_test_real_10k.csv']"
      ]
     },
     "execution_count": 7,
     "metadata": {},
     "output_type": "execute_result"
    }
   ],
   "source": [
    "csv_list"
   ]
  },
  {
   "cell_type": "code",
   "execution_count": 128,
   "metadata": {},
   "outputs": [
    {
     "name": "stdout",
     "output_type": "stream",
     "text": [
      "nozzle_train_real_test_real.csv\n",
      "convnext_small\n",
      "0.974\n",
      "vit_b_16\n",
      "0.951\n",
      "efficientnetv2_m\n",
      "0.973\n",
      "nozzle_train_synthetic_test_synthetic.csv\n",
      "convnext_small\n",
      "0.985\n",
      "efficientnetv2_m\n",
      "0.98\n",
      "vit_b_16\n",
      "0.945\n",
      "nozzle_train_synthetic_test_real.csv\n",
      "convnext_small\n",
      "0.699\n",
      "vit_b_16\n",
      "0.74\n",
      "efficientnetv2_m\n",
      "0.707\n"
     ]
    },
    {
     "name": "stderr",
     "output_type": "stream",
     "text": [
      "C:\\Users\\bimrose2\\AppData\\Local\\Temp\\ipykernel_20360\\1765997024.py:16: RuntimeWarning: All-NaN axis encountered\n",
      "  max_acc = np.nanmax([np.nanmax(max_acc_data), np.nanmax(val_acc_data)])\n",
      "C:\\Users\\bimrose2\\AppData\\Local\\Temp\\ipykernel_20360\\1765997024.py:16: RuntimeWarning: All-NaN axis encountered\n",
      "  max_acc = np.nanmax([np.nanmax(max_acc_data), np.nanmax(val_acc_data)])\n"
     ]
    }
   ],
   "source": [
    "y_label_text = ['Train Real\\nTest Real', 'Train Synthetic\\nTest Synthetic', 'Train Synthetic\\nTest Real']\n",
    "\n",
    "plot_acc_array = []\n",
    "plot_model_array = []\n",
    "plot_label_array = []\n",
    "\n",
    "for idx in range(3):\n",
    "    data = pd.read_csv(csv_path + '/' + csv_list[idx])\n",
    "    print(csv_list[idx])\n",
    "\n",
    "    for model in data.model_name.unique():\n",
    "        max_acc_array = []\n",
    "        for dataset in data.dataset_name.unique():\n",
    "            max_acc_data = data.max_acc[data.model_name == model][data.dataset_name == dataset]\n",
    "            val_acc_data = data['val acc'][data.model_name == model][data.dataset_name == dataset]\n",
    "            max_acc = np.nanmax([np.nanmax(max_acc_data), np.nanmax(val_acc_data)])\n",
    "            max_acc_array.append(max_acc)\n",
    "            plot_acc_array.append(max_acc)\n",
    "            plot_model_array.append(model)\n",
    "            plot_label_array.append(y_label_text[idx])\n",
    "        print(model)\n",
    "        print(np.max(max_acc_array))\n",
    "\n"
   ]
  },
  {
   "cell_type": "code",
   "execution_count": 22,
   "metadata": {},
   "outputs": [
    {
     "name": "stdout",
     "output_type": "stream",
     "text": [
      "nozzle_train_synthetic_test_real_1k.csv\n",
      "convnext_small\n",
      "0.6802\n",
      "0.6577200000000001\n",
      "efficientnetv2_m\n",
      "0.7612\n",
      "0.6883999999999999\n",
      "vit_b_16\n",
      "0.6728\n",
      "0.56676\n",
      "nozzle_train_synthetic_test_real_3k.csv\n",
      "efficientnetv2_m\n",
      "0.786\n",
      "0.72724\n",
      "vit_b_16\n",
      "0.7626\n",
      "0.69548\n",
      "convnext_small\n",
      "0.7106\n",
      "0.6978\n",
      "nozzle_train_synthetic_test_real_5k.csv\n",
      "efficientnetv2_m\n",
      "0.789\n",
      "0.7783200000000001\n",
      "vit_b_16\n",
      "0.7818\n",
      "0.68912\n",
      "convnext_small\n",
      "0.7454\n",
      "0.7010799999999999\n",
      "nozzle_train_synthetic_test_real_10k.csv\n",
      "vit_b_16\n",
      "0.809\n",
      "0.79268\n",
      "efficientnetv2_m\n",
      "0.7994\n",
      "0.7879599999999999\n",
      "convnext_small\n",
      "0.8368\n",
      "0.75384\n"
     ]
    },
    {
     "name": "stderr",
     "output_type": "stream",
     "text": [
      "C:\\Users\\bimrose2\\AppData\\Local\\Temp\\ipykernel_13780\\3798977652.py:16: RuntimeWarning: All-NaN axis encountered\n",
      "  max_acc = np.nanmax([np.nanmax(max_acc_data), np.nanmax(val_acc_data)])\n",
      "C:\\Users\\bimrose2\\AppData\\Local\\Temp\\ipykernel_13780\\3798977652.py:16: RuntimeWarning: All-NaN axis encountered\n",
      "  max_acc = np.nanmax([np.nanmax(max_acc_data), np.nanmax(val_acc_data)])\n",
      "C:\\Users\\bimrose2\\AppData\\Local\\Temp\\ipykernel_13780\\3798977652.py:16: RuntimeWarning: All-NaN axis encountered\n",
      "  max_acc = np.nanmax([np.nanmax(max_acc_data), np.nanmax(val_acc_data)])\n",
      "C:\\Users\\bimrose2\\AppData\\Local\\Temp\\ipykernel_13780\\3798977652.py:16: RuntimeWarning: All-NaN axis encountered\n",
      "  max_acc = np.nanmax([np.nanmax(max_acc_data), np.nanmax(val_acc_data)])\n"
     ]
    }
   ],
   "source": [
    "y_label_text = ['1000', '3000', '5000', '10000']\n",
    "\n",
    "plot_acc_array = []\n",
    "plot_model_array = []\n",
    "plot_label_array = []\n",
    "\n",
    "for idx in range(4):\n",
    "    data = pd.read_csv(csv_path + '/' + csv_list[idx])\n",
    "    print(csv_list[idx])\n",
    "\n",
    "    for model in data.model_name.unique():\n",
    "        max_acc_array = []\n",
    "        for dataset in data.dataset_name.unique():\n",
    "            max_acc_data = data.max_acc[data.model_name == model][data.dataset_name == dataset]\n",
    "            val_acc_data = data['val acc'][data.model_name == model][data.dataset_name == dataset]\n",
    "            max_acc = np.nanmax([np.nanmax(max_acc_data), np.nanmax(val_acc_data)])\n",
    "            max_acc_array.append(max_acc)\n",
    "            plot_acc_array.append(max_acc)\n",
    "            plot_model_array.append(model)\n",
    "            plot_label_array.append(y_label_text[idx])\n",
    "        print(model)\n",
    "        print(np.max(max_acc_array))\n",
    "        print(np.mean(max_acc_array))\n",
    "\n"
   ]
  },
  {
   "cell_type": "code",
   "execution_count": 10,
   "metadata": {},
   "outputs": [
    {
     "name": "stderr",
     "output_type": "stream",
     "text": [
      "C:\\Users\\bimrose2\\AppData\\Local\\Temp\\ipykernel_13780\\1777888167.py:30: UserWarning: FixedFormatter should only be used together with FixedLocator\n",
      "  ax1.set_xticklabels(y_label_text, fontsize=11,  fontfamily='Arial', fontweight='bold')\n",
      "C:\\Users\\bimrose2\\AppData\\Local\\Temp\\ipykernel_13780\\1777888167.py:31: UserWarning: FixedFormatter should only be used together with FixedLocator\n",
      "  ax1.set_yticklabels(ax1.get_yticks(), fontsize=11,  fontfamily='Arial', fontweight='bold')\n"
     ]
    },
    {
     "data": {
      "image/png": "[encoded data removed]",
      "text/plain": [
       "<Figure size 432x288 with 1 Axes>"
      ]
     },
     "metadata": {
      "needs_background": "light"
     },
     "output_type": "display_data"
    }
   ],
   "source": [
    "plot_acc_array = np.array(plot_acc_array)\n",
    "plot_model_array = np.array(plot_model_array)\n",
    "plot_label_array = np.array(plot_label_array)\n",
    "\n",
    "from matplotlib.ticker import FormatStrFormatter, MultipleLocator\n",
    "from matplotlib.category import UnitData\n",
    "import matplotlib.transforms as transforms\n",
    "\n",
    "fig1, ax1 = plt.subplots(figsize=(6, 4))\n",
    "\n",
    "offset = lambda p: transforms.ScaledTranslation(p/72.,0, plt.gcf().dpi_scale_trans)\n",
    "trans = plt.gca().transData\n",
    "\n",
    "\n",
    "ax1.scatter(plot_label_array[plot_model_array == 'convnext_small'], plot_acc_array[plot_model_array == 'convnext_small'], label='ConvNext', transform=trans + offset(-10), c='darkblue')\n",
    "ax1.scatter(plot_label_array[plot_model_array == 'efficientnetv2_m'], plot_acc_array[plot_model_array == 'efficientnetv2_m'], label='EfficientNet', c='darkorange')\n",
    "ax1.scatter(plot_label_array[plot_model_array == 'vit_b_16'], plot_acc_array[plot_model_array == 'vit_b_16'], label='ViT', transform=trans + offset(10), c='red')\n",
    "\n",
    "ax1.set_xlabel('Data Configuration', fontsize=13, fontfamily='Arial', labelpad=10, fontweight='bold') \n",
    "ax1.set_ylabel('Testing Accuracy', fontsize=13, fontfamily='Arial', labelpad=10, fontweight='bold')\n",
    "ax1.tick_params(top=True, labeltop=False, bottom=True, labelbottom=True, right=True, labelright=False, left=True, labelleft=True)\n",
    "ax1.tick_params(axis=\"x\", which=\"minor\", direction=\"in\", top=True, labeltop=False, bottom=True, labelbottom=False)\n",
    "ax1.tick_params(axis=\"y\", which=\"minor\", direction=\"in\", right=True, labelright=False, left=True, labelleft=False)\n",
    "#ax1.ticklabel_format(axis='both', style='plain', scilimits=(0,0))\n",
    "ax1.legend(loc='upper right', fontsize=11, frameon=False)\n",
    "ax1.xaxis.set_minor_locator(MultipleLocator(1))\n",
    "#ax1.xaxis.set_major_locator(MultipleLocator(2))\n",
    "ax1.yaxis.set_minor_locator(MultipleLocator(0.5))\n",
    "ax1.tick_params(direction='in', which='both')\n",
    "ax1.set_xticklabels(y_label_text, fontsize=11,  fontfamily='Arial', fontweight='bold')\n",
    "ax1.set_yticklabels(ax1.get_yticks(), fontsize=11,  fontfamily='Arial', fontweight='bold')\n",
    "#ax1.xaxis.set_major_formatter(FormatStrFormatter('%.0f'))\n",
    "ax1.yaxis.set_major_formatter(FormatStrFormatter('%.2f'))\n",
    "ax1.set_xlim([-.5, 2.5])\n",
    "ax1.set_ylim([0.6, 1])\n",
    "\n",
    "\n",
    "\n",
    "fig1.savefig('Accuracy.svg', format='svg', dpi=300, bbox_inches='tight')"
   ]
  },
  {
   "cell_type": "code",
   "execution_count": 21,
   "metadata": {},
   "outputs": [
    {
     "name": "stderr",
     "output_type": "stream",
     "text": [
      "C:\\Users\\bimrose2\\AppData\\Local\\Temp\\ipykernel_13780\\2442304973.py:30: UserWarning: FixedFormatter should only be used together with FixedLocator\n",
      "  ax1.set_xticklabels(y_label_text, fontsize=11,  fontfamily='Arial', fontweight='bold')\n",
      "C:\\Users\\bimrose2\\AppData\\Local\\Temp\\ipykernel_13780\\2442304973.py:31: UserWarning: FixedFormatter should only be used together with FixedLocator\n",
      "  ax1.set_yticklabels(ax1.get_yticks(), fontsize=11,  fontfamily='Arial', fontweight='bold')\n"
     ]
    },
    {
     "data": {
      "image/png": "[encoded data removed]",
      "text/plain": [
       "<Figure size 432x288 with 1 Axes>"
      ]
     },
     "metadata": {
      "needs_background": "light"
     },
     "output_type": "display_data"
    }
   ],
   "source": [
    "plot_acc_array = np.array(plot_acc_array)\n",
    "plot_model_array = np.array(plot_model_array)\n",
    "plot_label_array = np.array(plot_label_array)\n",
    "\n",
    "from matplotlib.ticker import FormatStrFormatter, MultipleLocator\n",
    "from matplotlib.category import UnitData\n",
    "import matplotlib.transforms as transforms\n",
    "\n",
    "fig1, ax1 = plt.subplots(figsize=(6, 4))\n",
    "\n",
    "offset = lambda p: transforms.ScaledTranslation(p/72.,0, plt.gcf().dpi_scale_trans)\n",
    "trans = plt.gca().transData\n",
    "\n",
    "\n",
    "ax1.scatter(plot_label_array[plot_model_array == 'convnext_small'], plot_acc_array[plot_model_array == 'convnext_small'], label='ConvNext', transform=trans + offset(-10), c='darkblue')\n",
    "ax1.scatter(plot_label_array[plot_model_array == 'efficientnetv2_m'], plot_acc_array[plot_model_array == 'efficientnetv2_m'], label='EfficientNet', c='darkorange')\n",
    "ax1.scatter(plot_label_array[plot_model_array == 'vit_b_16'], plot_acc_array[plot_model_array == 'vit_b_16'], label='ViT', transform=trans + offset(10), c='red')\n",
    "\n",
    "ax1.set_xlabel('Synthetic Training Images', fontsize=13, fontfamily='Arial', labelpad=10, fontweight='bold') \n",
    "ax1.set_ylabel('Testing Accuracy', fontsize=13, fontfamily='Arial', labelpad=10, fontweight='bold')\n",
    "ax1.tick_params(top=True, labeltop=False, bottom=True, labelbottom=True, right=True, labelright=False, left=True, labelleft=True)\n",
    "ax1.tick_params(axis=\"x\", which=\"minor\", direction=\"in\", top=True, labeltop=False, bottom=True, labelbottom=False)\n",
    "ax1.tick_params(axis=\"y\", which=\"minor\", direction=\"in\", right=True, labelright=False, left=True, labelleft=False)\n",
    "#ax1.ticklabel_format(axis='both', style='plain', scilimits=(0,0))\n",
    "ax1.legend(loc='upper left', fontsize=11, frameon=False)\n",
    "ax1.xaxis.set_minor_locator(MultipleLocator(1))\n",
    "#ax1.xaxis.set_major_locator(MultipleLocator(2))\n",
    "ax1.yaxis.set_minor_locator(MultipleLocator(0.5))\n",
    "ax1.tick_params(direction='in', which='both')\n",
    "ax1.set_xticklabels(y_label_text, fontsize=11,  fontfamily='Arial', fontweight='bold')\n",
    "ax1.set_yticklabels(ax1.get_yticks(), fontsize=11,  fontfamily='Arial', fontweight='bold')\n",
    "#ax1.xaxis.set_major_formatter(FormatStrFormatter('%.0f'))\n",
    "ax1.yaxis.set_major_formatter(FormatStrFormatter('%.2f'))\n",
    "ax1.set_xlim([-.5, 3.5])\n",
    "ax1.set_ylim([0.4, .95])\n",
    "\n",
    "\n",
    "\n",
    "fig1.savefig('Accuracy.svg', format='svg', dpi=300, bbox_inches='tight')"
   ]
  },
  {
   "cell_type": "code",
   "execution_count": null,
   "metadata": {},
   "outputs": [],
   "source": []
  }
 ],
 "metadata": {
  "kernelspec": {
   "display_name": "base",
   "language": "python",
   "name": "python3"
  },
  "language_info": {
   "codemirror_mode": {
    "name": "ipython",
    "version": 3
   },
   "file_extension": ".py",
   "mimetype": "text/x-python",
   "name": "python",
   "nbconvert_exporter": "python",
   "pygments_lexer": "ipython3",
   "version": "3.9.12"
  },
  "orig_nbformat": 4,
  "vscode": {
   "interpreter": {
    "hash": "6dbfb62aa31b9130e6fdddd52ed11bbd4e4ffa9fcc6749ef69e074ade32d5aa4"
   }
  }
 },
 "nbformat": 4,
 "nbformat_minor": 2
}
